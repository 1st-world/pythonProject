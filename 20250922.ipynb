{
 "cells": [
  {
   "cell_type": "code",
   "execution_count": 9,
   "id": "2602e376",
   "metadata": {},
   "outputs": [
    {
     "name": "stdout",
     "output_type": "stream",
     "text": [
      "1번 학생은 합격입니다.\n",
      "2번 학생은 불합격입니다.\n",
      "3번 학생은 합격입니다.\n",
      "4번 학생은 불합격입니다.\n",
      "5번 학생은 합격입니다.\n"
     ]
    }
   ],
   "source": [
    "marks = [90, 25, 67, 45, 80]\n",
    "\n",
    "for i, score in enumerate(marks, 1):\n",
    "    if score >= 60:\n",
    "        print(f\"{i}번 학생은 합격입니다.\")\n",
    "    else:\n",
    "        print(f\"{i}번 학생은 불합격입니다.\")"
   ]
  },
  {
   "cell_type": "code",
   "execution_count": 12,
   "id": "8b83359d",
   "metadata": {},
   "outputs": [
    {
     "name": "stdout",
     "output_type": "stream",
     "text": [
      "끝말잇기 게임 시작\n",
      "가나다\n",
      "다람쥐\n",
      "쥐포\n",
      "포탄\n",
      "탄띠\n",
      "땡!\n"
     ]
    }
   ],
   "source": [
    "# 끝말잇기\n",
    "print(\"끝말잇기 게임 시작\")\n",
    "var = \"가나다\"\n",
    "print(var)\n",
    "\n",
    "while True:\n",
    "    var_input = input(\"단어 입력: \")\n",
    "    if var[-1] != var_input[0]:\n",
    "        print(\"땡!\")\n",
    "        break\n",
    "    print(var_input)\n",
    "    var = var_input"
   ]
  },
  {
   "cell_type": "code",
   "execution_count": 21,
   "id": "6979820c",
   "metadata": {},
   "outputs": [
    {
     "name": "stdout",
     "output_type": "stream",
     "text": [
      "[1, 1, 3, 3, 0, 1, 1]\n",
      "[1, 3, 0, 1]\n"
     ]
    }
   ],
   "source": [
    "# 리스트 중 연속 중복에 대해서만 제거\n",
    "numbers = [1, 1, 3, 3, 0, 1, 1]\n",
    "print(numbers)\n",
    "for idx, _ in enumerate(numbers):\n",
    "    if idx > 0 and numbers[idx] == numbers[idx - 1]:\n",
    "        numbers.pop(idx)\n",
    "print(numbers)"
   ]
  },
  {
   "cell_type": "code",
   "execution_count": null,
   "id": "4f236f96",
   "metadata": {},
   "outputs": [
    {
     "name": "stdout",
     "output_type": "stream",
     "text": [
      "'hello?' 변환 결과 → '.... . .-.. .-.. --- ?'\n"
     ]
    }
   ],
   "source": [
    "# 모스 부호 변환\n",
    "morse = { \n",
    "    '.-':'a', '-...':'b', '-.-.':'c', '-..':'d', '.':'e', '..-.':'f',\n",
    "    '--.':'g', '....':'h', '..':'i', '.---':'j', '-.-':'k', '.-..':'l',\n",
    "    '--':'m', '-.':'n', '---':'o', '.--.':'p', '--.-':'q', '.-.':'r',\n",
    "    '...':'s', '-':'t', '..-':'u', '...-':'v', '.--':'w', '-..-':'x',\n",
    "    '-.--':'y', '--..':'z'\n",
    "}\n",
    "morse_reversed = {v: k for k, v in morse.items()}\n",
    "\n",
    "input_str = input(\"문자열 입력: \").lower()\n",
    "output_str = \"\"\n",
    "for char in input_str:\n",
    "    if char == \" \":\n",
    "        output_str += \" \"\n",
    "    elif char in morse_reversed.keys():\n",
    "        output_str += morse_reversed.get(char) + \" \"\n",
    "    else:\n",
    "        output_str += \"?\"\n",
    "print(f\"'{input_str}' 변환 결과 → '{output_str}'\")"
   ]
  },
  {
   "cell_type": "code",
   "execution_count": null,
   "id": "e8e28a84",
   "metadata": {},
   "outputs": [
    {
     "name": "stdout",
     "output_type": "stream",
     "text": [
      "['누드초코', '아몬드', '초코', '크런키', '화이트쿠키']\n"
     ]
    }
   ],
   "source": [
    "pepero = [\"초코\", \"누드초코\", \"크런키\", \"아몬드\", \"초코\", \"누드초코\", \"아몬드\", \"화이트쿠키\", \"초코\", \"초코\"]\n",
    "\n",
    "print(sorted(set(pepero)))"
   ]
  },
  {
   "cell_type": "code",
   "execution_count": null,
   "id": "df72840e",
   "metadata": {},
   "outputs": [
    {
     "name": "stdout",
     "output_type": "stream",
     "text": [
      "7\n"
     ]
    }
   ],
   "source": [
    "# 단어 개수 카운트 (중복 제외)\n",
    "words = \"culture experience symbol symbol education symbol effect education affair liberty liberty affair\"\n",
    "\n",
    "print(len(set(words.split())))"
   ]
  }
 ],
 "metadata": {
  "kernelspec": {
   "display_name": "Python 3",
   "language": "python",
   "name": "python3"
  },
  "language_info": {
   "codemirror_mode": {
    "name": "ipython",
    "version": 3
   },
   "file_extension": ".py",
   "mimetype": "text/x-python",
   "name": "python",
   "nbconvert_exporter": "python",
   "pygments_lexer": "ipython3",
   "version": "3.10.11"
  }
 },
 "nbformat": 4,
 "nbformat_minor": 5
}
